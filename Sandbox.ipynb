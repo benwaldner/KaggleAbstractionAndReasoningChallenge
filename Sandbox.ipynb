{
 "cells": [
  {
   "cell_type": "code",
   "execution_count": 1,
   "metadata": {},
   "outputs": [
    {
     "name": "stderr",
     "output_type": "stream",
     "text": [
      "/home/drx/anaconda3/lib/python3.7/site-packages/tensorflow/python/framework/dtypes.py:516: FutureWarning: Passing (type, 1) or '1type' as a synonym of type is deprecated; in a future version of numpy, it will be understood as (type, (1,)) / '(1,)type'.\n",
      "  _np_qint8 = np.dtype([(\"qint8\", np.int8, 1)])\n",
      "/home/drx/anaconda3/lib/python3.7/site-packages/tensorflow/python/framework/dtypes.py:517: FutureWarning: Passing (type, 1) or '1type' as a synonym of type is deprecated; in a future version of numpy, it will be understood as (type, (1,)) / '(1,)type'.\n",
      "  _np_quint8 = np.dtype([(\"quint8\", np.uint8, 1)])\n",
      "/home/drx/anaconda3/lib/python3.7/site-packages/tensorflow/python/framework/dtypes.py:518: FutureWarning: Passing (type, 1) or '1type' as a synonym of type is deprecated; in a future version of numpy, it will be understood as (type, (1,)) / '(1,)type'.\n",
      "  _np_qint16 = np.dtype([(\"qint16\", np.int16, 1)])\n",
      "/home/drx/anaconda3/lib/python3.7/site-packages/tensorflow/python/framework/dtypes.py:519: FutureWarning: Passing (type, 1) or '1type' as a synonym of type is deprecated; in a future version of numpy, it will be understood as (type, (1,)) / '(1,)type'.\n",
      "  _np_quint16 = np.dtype([(\"quint16\", np.uint16, 1)])\n",
      "/home/drx/anaconda3/lib/python3.7/site-packages/tensorflow/python/framework/dtypes.py:520: FutureWarning: Passing (type, 1) or '1type' as a synonym of type is deprecated; in a future version of numpy, it will be understood as (type, (1,)) / '(1,)type'.\n",
      "  _np_qint32 = np.dtype([(\"qint32\", np.int32, 1)])\n",
      "/home/drx/anaconda3/lib/python3.7/site-packages/tensorflow/python/framework/dtypes.py:525: FutureWarning: Passing (type, 1) or '1type' as a synonym of type is deprecated; in a future version of numpy, it will be understood as (type, (1,)) / '(1,)type'.\n",
      "  np_resource = np.dtype([(\"resource\", np.ubyte, 1)])\n"
     ]
    },
    {
     "name": "stdout",
     "output_type": "stream",
     "text": [
      "1.14.0\n"
     ]
    },
    {
     "name": "stderr",
     "output_type": "stream",
     "text": [
      "/home/drx/anaconda3/lib/python3.7/site-packages/tensorboard/compat/tensorflow_stub/dtypes.py:541: FutureWarning: Passing (type, 1) or '1type' as a synonym of type is deprecated; in a future version of numpy, it will be understood as (type, (1,)) / '(1,)type'.\n",
      "  _np_qint8 = np.dtype([(\"qint8\", np.int8, 1)])\n",
      "/home/drx/anaconda3/lib/python3.7/site-packages/tensorboard/compat/tensorflow_stub/dtypes.py:542: FutureWarning: Passing (type, 1) or '1type' as a synonym of type is deprecated; in a future version of numpy, it will be understood as (type, (1,)) / '(1,)type'.\n",
      "  _np_quint8 = np.dtype([(\"quint8\", np.uint8, 1)])\n",
      "/home/drx/anaconda3/lib/python3.7/site-packages/tensorboard/compat/tensorflow_stub/dtypes.py:543: FutureWarning: Passing (type, 1) or '1type' as a synonym of type is deprecated; in a future version of numpy, it will be understood as (type, (1,)) / '(1,)type'.\n",
      "  _np_qint16 = np.dtype([(\"qint16\", np.int16, 1)])\n",
      "/home/drx/anaconda3/lib/python3.7/site-packages/tensorboard/compat/tensorflow_stub/dtypes.py:544: FutureWarning: Passing (type, 1) or '1type' as a synonym of type is deprecated; in a future version of numpy, it will be understood as (type, (1,)) / '(1,)type'.\n",
      "  _np_quint16 = np.dtype([(\"quint16\", np.uint16, 1)])\n",
      "/home/drx/anaconda3/lib/python3.7/site-packages/tensorboard/compat/tensorflow_stub/dtypes.py:545: FutureWarning: Passing (type, 1) or '1type' as a synonym of type is deprecated; in a future version of numpy, it will be understood as (type, (1,)) / '(1,)type'.\n",
      "  _np_qint32 = np.dtype([(\"qint32\", np.int32, 1)])\n",
      "/home/drx/anaconda3/lib/python3.7/site-packages/tensorboard/compat/tensorflow_stub/dtypes.py:550: FutureWarning: Passing (type, 1) or '1type' as a synonym of type is deprecated; in a future version of numpy, it will be understood as (type, (1,)) / '(1,)type'.\n",
      "  np_resource = np.dtype([(\"resource\", np.ubyte, 1)])\n"
     ]
    }
   ],
   "source": [
    "import tensorflow as tf\n",
    "print(tf.__version__)"
   ]
  },
  {
   "cell_type": "code",
   "execution_count": 1,
   "metadata": {},
   "outputs": [],
   "source": [
    "import numpy as np\n",
    "import pandas as pd\n",
    "\n",
    "import os\n",
    "\n",
    "import utils.file_handling as io\n",
    "from utils import plotting as plt\n",
    "\n",
    "\n",
    "from keras.layers import Input, Dense, Flatten, Conv2D, concatenate\n",
    "from keras.models import Model\n",
    "\n",
    "from keras.layers.convolutional import Conv3D\n",
    "from keras.layers.convolutional_recurrent import ConvLSTM2D\n",
    "\n",
    "from keras.layers.normalization import BatchNormalization\n",
    "from keras.optimizers import Adam\n",
    "\n",
    "import numpy as np\n",
    "np.random.seed(0)  # Set a random seed for reproducibility"
   ]
  },
  {
   "cell_type": "code",
   "execution_count": 4,
   "metadata": {},
   "outputs": [
    {
     "data": {
      "text/plain": [
       "{'test': [{'input': [[7, 0, 7], [7, 0, 7], [7, 7, 0]],\n",
       "   'output': [[7, 0, 7, 0, 0, 0, 7, 0, 7],\n",
       "    [7, 0, 7, 0, 0, 0, 7, 0, 7],\n",
       "    [7, 7, 0, 0, 0, 0, 7, 7, 0],\n",
       "    [7, 0, 7, 0, 0, 0, 7, 0, 7],\n",
       "    [7, 0, 7, 0, 0, 0, 7, 0, 7],\n",
       "    [7, 7, 0, 0, 0, 0, 7, 7, 0],\n",
       "    [7, 0, 7, 7, 0, 7, 0, 0, 0],\n",
       "    [7, 0, 7, 7, 0, 7, 0, 0, 0],\n",
       "    [7, 7, 0, 7, 7, 0, 0, 0, 0]]}],\n",
       " 'train': [{'input': [[0, 7, 7], [7, 7, 7], [0, 7, 7]],\n",
       "   'output': [[0, 0, 0, 0, 7, 7, 0, 7, 7],\n",
       "    [0, 0, 0, 7, 7, 7, 7, 7, 7],\n",
       "    [0, 0, 0, 0, 7, 7, 0, 7, 7],\n",
       "    [0, 7, 7, 0, 7, 7, 0, 7, 7],\n",
       "    [7, 7, 7, 7, 7, 7, 7, 7, 7],\n",
       "    [0, 7, 7, 0, 7, 7, 0, 7, 7],\n",
       "    [0, 0, 0, 0, 7, 7, 0, 7, 7],\n",
       "    [0, 0, 0, 7, 7, 7, 7, 7, 7],\n",
       "    [0, 0, 0, 0, 7, 7, 0, 7, 7]]},\n",
       "  {'input': [[4, 0, 4], [0, 0, 0], [0, 4, 0]],\n",
       "   'output': [[4, 0, 4, 0, 0, 0, 4, 0, 4],\n",
       "    [0, 0, 0, 0, 0, 0, 0, 0, 0],\n",
       "    [0, 4, 0, 0, 0, 0, 0, 4, 0],\n",
       "    [0, 0, 0, 0, 0, 0, 0, 0, 0],\n",
       "    [0, 0, 0, 0, 0, 0, 0, 0, 0],\n",
       "    [0, 0, 0, 0, 0, 0, 0, 0, 0],\n",
       "    [0, 0, 0, 4, 0, 4, 0, 0, 0],\n",
       "    [0, 0, 0, 0, 0, 0, 0, 0, 0],\n",
       "    [0, 0, 0, 0, 4, 0, 0, 0, 0]]},\n",
       "  {'input': [[0, 0, 0], [0, 0, 2], [2, 0, 2]],\n",
       "   'output': [[0, 0, 0, 0, 0, 0, 0, 0, 0],\n",
       "    [0, 0, 0, 0, 0, 0, 0, 0, 0],\n",
       "    [0, 0, 0, 0, 0, 0, 0, 0, 0],\n",
       "    [0, 0, 0, 0, 0, 0, 0, 0, 0],\n",
       "    [0, 0, 0, 0, 0, 0, 0, 0, 2],\n",
       "    [0, 0, 0, 0, 0, 0, 2, 0, 2],\n",
       "    [0, 0, 0, 0, 0, 0, 0, 0, 0],\n",
       "    [0, 0, 2, 0, 0, 0, 0, 0, 2],\n",
       "    [2, 0, 2, 0, 0, 0, 2, 0, 2]]},\n",
       "  {'input': [[6, 6, 0], [6, 0, 0], [0, 6, 6]],\n",
       "   'output': [[6, 6, 0, 6, 6, 0, 0, 0, 0],\n",
       "    [6, 0, 0, 6, 0, 0, 0, 0, 0],\n",
       "    [0, 6, 6, 0, 6, 6, 0, 0, 0],\n",
       "    [6, 6, 0, 0, 0, 0, 0, 0, 0],\n",
       "    [6, 0, 0, 0, 0, 0, 0, 0, 0],\n",
       "    [0, 6, 6, 0, 0, 0, 0, 0, 0],\n",
       "    [0, 0, 0, 6, 6, 0, 6, 6, 0],\n",
       "    [0, 0, 0, 6, 0, 0, 6, 0, 0],\n",
       "    [0, 0, 0, 0, 6, 6, 0, 6, 6]]},\n",
       "  {'input': [[2, 2, 2], [0, 0, 0], [0, 2, 2]],\n",
       "   'output': [[2, 2, 2, 2, 2, 2, 2, 2, 2],\n",
       "    [0, 0, 0, 0, 0, 0, 0, 0, 0],\n",
       "    [0, 2, 2, 0, 2, 2, 0, 2, 2],\n",
       "    [0, 0, 0, 0, 0, 0, 0, 0, 0],\n",
       "    [0, 0, 0, 0, 0, 0, 0, 0, 0],\n",
       "    [0, 0, 0, 0, 0, 0, 0, 0, 0],\n",
       "    [0, 0, 0, 2, 2, 2, 2, 2, 2],\n",
       "    [0, 0, 0, 0, 0, 0, 0, 0, 0],\n",
       "    [0, 0, 0, 0, 2, 2, 0, 2, 2]]}]}"
      ]
     },
     "execution_count": 4,
     "metadata": {},
     "output_type": "execute_result"
    }
   ],
   "source": [
    "training_path = os.getcwd()+'/data/training/'\n",
    "train_tasks = io.get_tasks(training_path)\n",
    "train_tasks[0]"
   ]
  },
  {
   "cell_type": "code",
   "execution_count": 6,
   "metadata": {},
   "outputs": [
    {
     "data": {
      "image/png": "[encoded data removed]",
      "text/plain": [
       "<Figure size 432x288 with 1 Axes>"
      ]
     },
     "metadata": {
      "needs_background": "light"
     },
     "output_type": "display_data"
    }
   ],
   "source": [
    "from utils import plotting as plt\n",
    "\n",
    "plt.plot_matrix(train_tasks[0]['test'][0]['input'])"
   ]
  }
 ],
 "metadata": {
  "kernelspec": {
   "display_name": "Python 3",
   "language": "python",
   "name": "python3"
  },
  "language_info": {
   "codemirror_mode": {
    "name": "ipython",
    "version": 3
   },
   "file_extension": ".py",
   "mimetype": "text/x-python",
   "name": "python",
   "nbconvert_exporter": "python",
   "pygments_lexer": "ipython3",
   "version": "3.7.7"
  }
 },
 "nbformat": 4,
 "nbformat_minor": 2
}
